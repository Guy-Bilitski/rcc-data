{
 "cells": [
  {
   "cell_type": "code",
   "execution_count": null,
   "metadata": {},
   "outputs": [],
   "source": [
    "import os\n",
    "\n",
    "DATA_DIR = \"raw_tibetan_data\"  # or whatever your root folder is called\n",
    "\n",
    "def rename_missing_suffixes(data_dir):\n",
    "    for entry in os.scandir(data_dir):\n",
    "        if not entry.is_dir():\n",
    "            continue\n",
    "\n",
    "        folder_name = entry.name\n",
    "        if folder_name.endswith(\"_Root\"):\n",
    "            suffix = \"_root.txt\"\n",
    "        elif folder_name.endswith(\"_Comm\"):\n",
    "            suffix = \"_comm.txt\"\n",
    "        else:\n",
    "            continue  # skip unrelated folders\n",
    "\n",
    "        base = folder_name.rsplit(\"_\", 1)[0]\n",
    "        for file in os.listdir(entry.path):\n",
    "            src = os.path.join(entry.path, file)\n",
    "\n",
    "            if not os.path.isfile(src):\n",
    "                continue\n",
    "\n",
    "            new_name = f\"{file}{suffix}\" if not file.endswith(suffix) else file\n",
    "            dst = os.path.join(data_dir, new_name)\n",
    "\n",
    "            # Avoid overwriting existing files\n",
    "            if os.path.exists(dst):\n",
    "                print(f\"⚠️  Skipping {dst} (already exists)\")\n",
    "                continue\n",
    "\n",
    "            os.rename(src, dst)\n",
    "            print(f\"✅ Renamed: {file} → {os.path.basename(dst)}\")\n",
    "\n",
    "        # optionally remove the now-empty folder\n",
    "        try:\n",
    "            os.rmdir(entry.path)\n",
    "            print(f\"📁 Removed folder: {entry.path}\")\n",
    "        except OSError:\n",
    "            print(f\"⚠️  Folder not empty: {entry.path}\")\n",
    "\n",
    "# Run the script\n",
    "rename_missing_suffixes(DATA_DIR)\n"
   ]
  }
 ],
 "metadata": {
  "kernelspec": {
   "display_name": "intlx",
   "language": "python",
   "name": "python3"
  },
  "language_info": {
   "name": "python",
   "version": "3.12.11"
  }
 },
 "nbformat": 4,
 "nbformat_minor": 2
}
